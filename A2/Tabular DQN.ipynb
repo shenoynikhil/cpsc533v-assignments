{
 "cells": [
  {
   "cell_type": "markdown",
   "metadata": {},
   "source": [
    "<!--\n",
    "authors: Matthew Wilson, Daniele Reda\n",
    "created: 2020/01/14\n",
    "last_updated: 2023/02/08\n",
    "-->\n",
    "\n",
    "\n",
    "## CPSC 533V: Assignment 3 - Tabular Q Learning and DQN (Due Thu Feb 22)"
   ]
  },
  {
   "cell_type": "markdown",
   "metadata": {},
   "source": [
    "---\n",
    "\n",
    "#  Part 1 [54 pts] Tabular Q-Learning \n",
    "\n",
    "Tabular Q-learning is an RL algorithm for problems with discrete states and discrete actions. The algorithm is described in the class notes, which borrows the summary description from [Section 6.5](http://incompleteideas.net/book/RLbook2018.pdf#page=153) of Richard Sutton's RL book. In the tabular approach, the Q-value is represented as a lookup table. As discussed in class, Q-learning can further be extended to continuous states and discrete actions, leading to the [Atari DQN](https://arxiv.org/abs/1312.5602) / Deep Q-learning algorithm.  However, it is important and informative to first fully understand tabular Q-learning.\n",
    "\n",
    "Informally, Q-learning works as follows: The goal is to learn the optimal Q-function: \n",
    "`Q(s,a)`, which is the *value* of being at state `s` and taking action `a`.  Q tells you how well you expect to do, on average, from here on out, given that you act optimally.  Once the Q function is learned, choosing an optimal action is as simple as looping over all possible actions and choosing the one with the highest Q (optimal action $a^* = \\text{argmax}_a Q(s,a)$).  To learn Q, we initialize it arbitrarily and then iteratively refine it using the Bellman backup equation for Q functions, namely: \n",
    "$Q(s,a) \\leftarrow Q(s,a) + \\alpha [r + \\gamma \\text{max}_a Q(s', a) - Q(s,a)]$.\n",
    "Here, $r$ is the reward associated with with the transition from state s to s', and $\\alpha$ is a learning rate.\n",
    "\n",
    "In the first part of assignment you will implement tabular Q-learning and apply it to CartPole -- an environment with a **continuous** state space.  To apply the tabular method, you will need to discretize the CartPole state space by dividing the state-space into bins.\n",
    "\n",
    "\n",
    "**Goals:**\n",
    "- to become familiar with python/numpy, as well as using an OpenAI Gym environment\n",
    "- to understand tabular Q-learning, by implementing tabular Q-Learning for \n",
    "  a discretized version of a continuous-state environment, and experimenting with the implementation\n",
    "- (optional) to develop further intuition regarding possible variations of the algorithm"
   ]
  },
  {
   "cell_type": "markdown",
   "metadata": {},
   "source": [
    "## Introduction\n",
    "Deep reinforcement learning has generated impressive results for board games ([Go][go], [Chess/Shogi][chess]), video games ([Atari][atari], [DOTA2][dota], [StarCraft II][scii]), [and][baoding] [robotic][rubix] [control][anymal] ([of][cassie] [course][mimic] ;)).  RL is beginning to work for an increasing range of tasks and capabilities.  At the same time, there are many [gaping holes][irpan] and [difficulties][amid] in applying these methods. Understanding deep RL is important if you wish to have a good grasp of the modern landscape of control methods.\n",
    "\n",
    "These next several assignments are designed to get you started with deep reinforcement learning, to give you a more close and personal understanding of the methods, and to provide you with a good starting point from which you can branch out into topics of interest. You will implement basic versions of some of the important fundamental algorithms in this space, including Q-learning and policy gradient/search methods.\n",
    "\n",
    "We will only have time to cover a subset of methods and ideas in this space.\n",
    "If you want to dig deeper, we suggest following the links given on the course webpage.  Additionally we draw special attention to the [Sutton book](http://incompleteideas.net/book/RLbook2018.pdf) for RL fundamentals and in depth coverage, and OpenAI's [Spinning Up resources](https://spinningup.openai.com/en/latest/spinningup/rl_intro.html) for a concise intro to RL and deep RL concepts, as well as good comparisons and implementations of modern deep RL algorithms.\n",
    "\n",
    "\n",
    "[atari]: https://arxiv.org/abs/1312.5602\n",
    "[go]: https://deepmind.com/research/case-studies/alphago-the-story-so-far\n",
    "[chess]:https://deepmind.com/blog/article/alphazero-shedding-new-light-grand-games-chess-shogi-and-go \n",
    "[dota]: https://openai.com/blog/openai-five/\n",
    "[scii]: https://deepmind.com/blog/article/AlphaStar-Grandmaster-level-in-StarCraft-II-using-multi-agent-reinforcement-learning\n",
    "[baoding]: https://bair.berkeley.edu/blog/2019/09/30/deep-dynamics/\n",
    "[rubix]: https://openai.com/blog/solving-rubiks-cube/\n",
    "[cassie]: https://www.cs.ubc.ca/~van/papers/2019-CORL-cassie/index.html\n",
    "[mimic]: https://www.cs.ubc.ca/~van/papers/2018-TOG-deepMimic/index.html\n",
    "[anymal]: https://arxiv.org/abs/1901.08652\n",
    "\n",
    "\n",
    "[irpan]: https://www.alexirpan.com/2018/02/14/rl-hard.html\n",
    "[amid]: http://amid.fish/reproducing-deep-rl\n",
    "\n"
   ]
  },
  {
   "cell_type": "code",
   "execution_count": 2,
   "metadata": {},
   "outputs": [],
   "source": [
    "# # uncomment if necesary\n",
    "# !pip install numpy\n",
    "# !pip install gym\n",
    "# # OR:\n",
    "# !pip install gymnasium\n",
    "import time\n",
    "import itertools\n",
    "import numpy as np\n",
    "# import gym\n",
    "import gymnasium as gym"
   ]
  },
  {
   "cell_type": "markdown",
   "metadata": {},
   "source": [
    "---\n",
    "\n",
    "## [12 pts] Explore the CartPole environment \n",
    "\n",
    "Your first task is to familiarize yourself with the OpenAI gym interface and the [CartPole environment](https://github.com/Farama-Foundation/Gymnasium/blob/main/gymnasium/envs/classic_control/cartpole.py)\n",
    "by writing a simple hand-coded policy to try to solve it.  \n",
    "To begin understanding OpenAI Gym environments, [read this first](https://gymnasium.farama.org/api/env/).) \n",
    "The gym interface is very popular and you will see many algorithm implementations and \n",
    "custom environments that support it.  You may even want to use the API in your course projects, \n",
    "to define a custom environment for a task you want to solve.\n",
    "\n",
    "Note that there were several breaking changes introduced in the past few years to the gym API. Some reference algorithm implementations online might be using the old version:\n",
    "- `obs = env.reset()` ->  `obs, info = env.reset()`\n",
    "- `obs, reward, done, info = env.step(action)` to `obs, reward, terminated, truncated, info = env.step(action)`\n",
    "- `env.render()` no longer accepts the `render_mode` parameter (e.g. human mode where the environment is rendered in a pop-up window, or rgb_array which allows headless conversion to images or videos)\n",
    "\n",
    "\n",
    "Below is some example code that runs a simple random policy.  You are to:\n",
    "- **run the code to see what it does**\n",
    "- **write code that chooses an action based on the observation**.  You will need to learn about the gym API and to read the CartPole documentation to figure out what the `action` and `obs` vectors mean for this environment. \n",
    "Your hand-coded policy can be arbitrary, and it should ideally do better than the random policy.  There is no single correct answer. The goal is to become familiar with `env`s.\n",
    "- **write code to print out the total reward gained by your policy in a single episode run**\n",
    "- **answer the short-response questions below** (see the TODOs for all of this)"
   ]
  },
  {
   "cell_type": "code",
   "execution_count": 3,
   "metadata": {},
   "outputs": [
    {
     "name": "stdout",
     "output_type": "stream",
     "text": [
      "observation space: Box([-4.8000002e+00 -3.4028235e+38 -4.1887903e-01 -3.4028235e+38], [4.8000002e+00 3.4028235e+38 4.1887903e-01 3.4028235e+38], (4,), float32)\n",
      "action space: Discrete(2)\n"
     ]
    }
   ],
   "source": [
    "env = gym.make('CartPole-v1', render_mode=\"human\")  # you can also try LunarLander-v2, but make sure to change it back\n",
    "print('observation space:', env.observation_space)\n",
    "print('action space:', env.action_space)\n",
    "\n",
    "# To find out what the observations mean, read the CartPole documentation.\n",
    "# Uncomment the lines below, or visit the source file: \n",
    "# https://github.com/Farama-Foundation/Gymnasium/blob/main/gymnasium/envs/classic_control/cartpole.py\n",
    "\n",
    "#cartpole = env.unwrapped\n",
    "#cartpole?"
   ]
  },
  {
   "cell_type": "code",
   "execution_count": 4,
   "metadata": {},
   "outputs": [],
   "source": [
    "def policy(obs):\n",
    "    # if angle in dangerous position, move according to angle\n",
    "    if obs[2] < -0.18 or obs[2] > 0.18:\n",
    "        return int(obs[2] > 0)\n",
    "\n",
    "    # if not near edges\n",
    "    if obs[0] < 2.1 and obs[0] > -2.1:\n",
    "        # only based on angular speed\n",
    "        return int(obs[3] > 0)\n",
    "\n",
    "    # turn left if near right boundary\n",
    "    if obs[0] >= 2.1:\n",
    "        return 0\n",
    "\n",
    "    # turn right if near left boundary\n",
    "    return 1"
   ]
  },
  {
   "cell_type": "code",
   "execution_count": 5,
   "metadata": {},
   "outputs": [
    {
     "name": "stderr",
     "output_type": "stream",
     "text": [
      "/Users/nikhilshenoy/miniforge3/envs/rl/lib/python3.9/site-packages/gymnasium/envs/classic_control/cartpole.py:215: UserWarning: \u001b[33mWARN: You are calling render method without specifying any render mode. You can specify the render_mode at initialization, e.g. gym.make(\"CartPole-v1\", render_mode=\"rgb_array\")\u001b[0m\n",
      "  gym.logger.warn(\n"
     ]
    },
    {
     "name": "stdout",
     "output_type": "stream",
     "text": [
      "Reward Sum for 0th iteration and policy manual: 132.0\n",
      "Reward Sum for 1th iteration and policy manual: 128.0\n",
      "Reward Sum for 2th iteration and policy manual: 167.0\n",
      "Reward Sum for 3th iteration and policy manual: 190.0\n",
      "Reward Sum for 4th iteration and policy manual: 137.0\n",
      "Reward Sum for 5th iteration and policy manual: 195.0\n",
      "Reward Sum for 6th iteration and policy manual: 166.0\n",
      "Reward Sum for 7th iteration and policy manual: 139.0\n",
      "Reward Sum for 8th iteration and policy manual: 155.0\n",
      "Reward Sum for 9th iteration and policy manual: 140.0\n",
      "For policy mode: manual, maximum reward: 195.0, average reward: 154.9\n",
      "Reward Sum for 0th iteration and policy random: 11.0\n",
      "Reward Sum for 1th iteration and policy random: 10.0\n",
      "Reward Sum for 2th iteration and policy random: 21.0\n",
      "Reward Sum for 3th iteration and policy random: 14.0\n",
      "Reward Sum for 4th iteration and policy random: 27.0\n",
      "Reward Sum for 5th iteration and policy random: 35.0\n",
      "Reward Sum for 6th iteration and policy random: 18.0\n",
      "Reward Sum for 7th iteration and policy random: 12.0\n",
      "Reward Sum for 8th iteration and policy random: 19.0\n",
      "Reward Sum for 9th iteration and policy random: 15.0\n",
      "For policy mode: random, maximum reward: 35.0, average reward: 18.2\n"
     ]
    }
   ],
   "source": [
    "# 1.1 [10pts]\n",
    "\n",
    "\n",
    "for policy_mode in ['manual', 'random']:\n",
    "    total_reward = []\n",
    "    for i in range(10):\n",
    "        env = gym.make('CartPole-v1') # (render_mode='human') does not work on M2 mac\n",
    "        # runs a single episode and render it.  try running this before editing anything\n",
    "        obs, info = env.reset()  # get first obs/state\n",
    "        rewards_all = []\n",
    "        while True:\n",
    "            # TODO: replace this `action` with something that depends on `obs`\n",
    "            # action = env.action_space.sample()  # random action\n",
    "            action = policy(obs) if policy_mode == 'manual' else env.action_space.sample()\n",
    "            obs, reward, terminated, truncated, info = env.step(action)\n",
    "            rewards_all.append(reward)\n",
    "            env.render()\n",
    "            time.sleep(0.1)  # so it doesn't render too quickly\n",
    "            if terminated | truncated: break\n",
    "        env.close()\n",
    "\n",
    "        # TODO: print out your total sum of rewards here\n",
    "        print (f'Reward Sum for {i}th iteration and policy {policy_mode}: {np.sum(rewards_all)}')\n",
    "        total_reward.append(np.sum(rewards_all))\n",
    "\n",
    "    print (f'For policy mode: {policy_mode}, maximum reward: {np.max(total_reward)}, average reward: {np.mean(total_reward)}')"
   ]
  },
  {
   "cell_type": "markdown",
   "metadata": {},
   "source": [
    "To answer the questions below, look at the full [source code here](https://github.com/Farama-Foundation/Gymnasium/blob/main/gymnasium/envs/classic_control/cartpole.py) if you haven't already.\n",
    "\n",
    "**1.2. [2pts] Briefly describe your policy.  What observation information does it use?  What score did you achieve (rough maximum and average)?  And how does it compare to the random policy?**"
   ]
  },
  {
   "cell_type": "markdown",
   "metadata": {},
   "source": [
    "My policy is based on the following code where I use the x position, angle and angular speed to determine my action,\n",
    "```python\n",
    "def policy(obs):\n",
    "    # if angle in dangerous position, move according to angle\n",
    "    if obs[2] < -0.18 or obs[2] > 0.18:\n",
    "        return int(obs[2] > 0)\n",
    "\n",
    "    # if not near edges\n",
    "    if obs[0] < 2.1 and obs[0] > -2.1:\n",
    "        # only based on angular speed\n",
    "        return int(obs[3] > 0)\n",
    "    \n",
    "    # turn left if near right boundary\n",
    "    if obs[0] >= 2.1:\n",
    "        return 0\n",
    "    \n",
    "    # turn right if near left boundary\n",
    "    return 1\n",
    "```\n",
    "I ran both the random and my policy for 10 iterations to get the following statistics,\n",
    "- Random Policy: maximum reward: 35.0, average reward: 18.2\n",
    "- My policy: maximum reward: 195.0, average reward: 154.9"
   ]
  },
  {
   "cell_type": "markdown",
   "metadata": {},
   "source": [
    "---\n",
    "\n",
    "##  [12 pts] Discretize the env\n",
    "\n",
    "Next, we need to discretize CartPole's continuous state space to work for tabular Q-learning.  While this is in part  a contrived usage of tabular methods, given the existence of other approaches that are designed to cope with continuous state-spaces, it is also interesting to consider whether tabular methods can be adapted more directly via discretization of the state into bins. Furthermore, tabular methods are simple, interpretabile, and can be proved to converge, and thus they still remain relevant.\n",
    "\n",
    "Your task is to discretize the state/observation space so that it is compatible with tabular Q-learning.  To do this:\n",
    "- **implement `obs_normalizer` to pass its test**\n",
    "- **implement `get_bins` to pass its test**\n",
    "- **then answer question 2.3**\n",
    "\n",
    "[map]: https://arxiv.org/abs/1504.04909\n",
    "[qd]: https://quality-diversity.github.io/"
   ]
  },
  {
   "cell_type": "code",
   "execution_count": 9,
   "metadata": {},
   "outputs": [],
   "source": [
    "env = gym.make('CartPole-v1')"
   ]
  },
  {
   "cell_type": "code",
   "execution_count": 115,
   "metadata": {},
   "outputs": [],
   "source": [
    "# 2.1 [5 pts for passing test_normed]\n",
    "def obs_normalizer(obs):\n",
    "    \"\"\"Normalize the observations between 0 and 1\n",
    "    \n",
    "    If the observation has extremely large bounds, then clip to a reasonable range before normalizing; \n",
    "    (-2,2) should work.  (It is ok if the solution is specific to CartPole)\n",
    "    \n",
    "    Args:\n",
    "        obs (np.ndarray): shape (4,) containing an observation from CartPole using the bound of the env\n",
    "    Returns:\n",
    "        normed (np.ndarray): shape (4,) where all elements are roughly uniformly mapped to the range [0, 1]\n",
    "    \n",
    "    \"\"\"\n",
    "    # HINT: check out env.observation_space.high, env.observation_space.low\n",
    "    lo, hi = env.observation_space.low, env.observation_space.high\n",
    "    \n",
    "    # for large bounds clip the low, hi to a max_value\n",
    "    max_value = 5\n",
    "    lo = np.clip(lo, -max_value, max_value)\n",
    "    hi = np.clip(hi, -max_value, max_value)\n",
    "    obs = np.clip(obs, -max_value, max_value)\n",
    "\n",
    "    return (obs - lo) / (hi - lo)\n",
    "    # # TODO: implement this function\n",
    "    # raise NotImplementedError('TODO')"
   ]
  },
  {
   "cell_type": "code",
   "execution_count": 116,
   "metadata": {},
   "outputs": [
    {
     "name": "stdout",
     "output_type": "stream",
     "text": [
      "Passed!\n"
     ]
    }
   ],
   "source": [
    "### TEST 2.1\n",
    "def test_normed():\n",
    "    obs, info = env.reset()\n",
    "    while True:\n",
    "        obs, _, terminated, truncated, _ =  env.step(env.action_space.sample())\n",
    "        normed = obs_normalizer(obs) \n",
    "        assert np.all(normed >= 0.0) and np.all(normed <= 1.0), '{} are outside of (0,1)'.format(normed)\n",
    "        if terminated | truncated:\n",
    "            break\n",
    "    env.close()\n",
    "    print('Passed!')\n",
    "test_normed()"
   ]
  },
  {
   "cell_type": "code",
   "execution_count": 118,
   "metadata": {},
   "outputs": [],
   "source": [
    "# 2.2 [5 pts for passing test_binned]\n",
    "def get_bins(normed, num_bins):\n",
    "    \"\"\"Map normalized observations (0,1) to bin index values (0,num_bins-1)\n",
    "    \n",
    "    Args:\n",
    "        normed (np.ndarray): shape (4,) output from obs_normalizer\n",
    "        num_bins (int): how many bins to use\n",
    "    Returns:\n",
    "        binned (np.ndarray of type np.int32): shape (4,) where all elements are values in range [0,num_bins-1]\n",
    "    \n",
    "    \"\"\"\n",
    "    # TODO: implement this function\n",
    "    bins = np.arange(0, 1.0 + (1/num_bins), (1/num_bins))\n",
    "    return np.clip(np.digitize(normed, bins) - 1, 0, num_bins-1).astype(np.int32)\n",
    "    # raise NotImplementedError('TODO')"
   ]
  },
  {
   "cell_type": "code",
   "execution_count": 119,
   "metadata": {},
   "outputs": [
    {
     "name": "stdout",
     "output_type": "stream",
     "text": [
      "Passed!\n"
     ]
    }
   ],
   "source": [
    "### TEST 2.2\n",
    "obs, info = env.reset()\n",
    "\n",
    "def test_binned(num_bins):\n",
    "    normed = np.array([0.0, 0.2, 0.8, 1.0])\n",
    "    binned = get_bins(normed, num_bins)\n",
    "    assert np.all(binned >= 0) and np.all(binned < num_bins), '{} supposed to be between (0, {})'.format(binned, num_bins-1)\n",
    "    assert binned.dtype == np.int32, \"You should also make sure to cast your answer to int using arr.astype(np.int32)\" \n",
    "    \n",
    "test_binned(5)\n",
    "test_binned(10)\n",
    "test_binned(50)\n",
    "print('Passed!')"
   ]
  },
  {
   "cell_type": "markdown",
   "metadata": {},
   "source": [
    "**2.3. [2 pts] If your state has 4 values and each is binned into N possible bins, how many bins are needed to represent all unique possible states?**\n"
   ]
  },
  {
   "cell_type": "markdown",
   "metadata": {},
   "source": [
    "Every state has N possible bins, so the total number of unique possible states is $4N$."
   ]
  },
  {
   "cell_type": "markdown",
   "metadata": {},
   "source": [
    "---\n",
    "\n",
    "## [20 pts] Solve the env \n",
    "\n",
    "Using the pseudocode below and the functions you implemented above, implement tabular Q-learning and use it to solve CartPole.\n",
    "\n",
    "We provide setup code to initialize the Q-table and give examples of interfacing with it. Write the inner and outer loops to train your algorithm.  These training loops will be similar to those deep RL approaches, so get used to writing them!\n",
    "\n",
    "The algorithm (excerpted from Section 6.5 of [Sutton's book](http://incompleteideas.net/book/RLbook2018.pdf)) is given below:\n",
    "\n",
    "![Sutton RL](https://i.imgur.com/mdcWVRL.png)\n",
    "\n",
    "in summary:\n",
    "- **implement Q-learning using this pseudocode and the helper code**\n",
    "- **answer the questions below**\n",
    "- **run the suggested experiments and otherwise experiment with whatever interests you**"
   ]
  },
  {
   "cell_type": "code",
   "execution_count": 120,
   "metadata": {},
   "outputs": [
    {
     "name": "stdout",
     "output_type": "stream",
     "text": [
      "Shape of Q Table:  (10, 10, 10, 10, 2)\n",
      "Original obs [-0.01000857  0.00094133  0.03893396  0.04370571] --> binned (4, 5, 5, 5)\n",
      "Value of Q Table at that obs/state value [0. 0.]\n"
     ]
    }
   ],
   "source": [
    "# setup (see last few lines for how to use the Q-table)\n",
    "env = gym.make('CartPole-v1')\n",
    "\n",
    "# hyper parameters. feel free to change these as desired and experiment with different values\n",
    "num_bins = 10\n",
    "alpha = 0.1\n",
    "gamma = 0.99\n",
    "log_n = 1000\n",
    "# epsilon greedy\n",
    "eps = 0.05  #usage: action = optimal if np.random.rand() > eps else random\n",
    "\n",
    "obs, info = env.reset()\n",
    "\n",
    "# Q-table initialized to zeros.  first 4 dims are state, last dim is for action (0,1) for left,right.\n",
    "Q = np.zeros([num_bins]*len(obs)+[env.action_space.n])\n",
    "\n",
    "# helper function to convert observation into a binned state so we can index into our Q-table\n",
    "obs2bin = lambda obs: tuple(get_bins(obs_normalizer(obs), num_bins=num_bins))\n",
    "\n",
    "s = obs2bin(obs)\n",
    "\n",
    "print('Shape of Q Table: ', Q.shape) # you can imagine why tabular learning does not scale very well\n",
    "print('Original obs {} --> binned {}'.format(obs, s))\n",
    "print('Value of Q Table at that obs/state value', Q[s])"
   ]
  },
  {
   "cell_type": "code",
   "execution_count": 147,
   "metadata": {},
   "outputs": [
    {
     "name": "stdout",
     "output_type": "stream",
     "text": [
      "For alpha: 0.1, eps: 0.05, gamma: 0.99\n",
      "Ran for a total of 5303 episodes before getting 150 as average reward!\n"
     ]
    },
    {
     "data": {
      "text/plain": [
       "5303"
      ]
     },
     "execution_count": 147,
     "metadata": {},
     "output_type": "execute_result"
    }
   ],
   "source": [
    "# 3.1 [20 pts]\n",
    "\n",
    "# TODO: implement Q learning, following the pseudo-code above. \n",
    "#     - you can follow it almost exactly, but translating things for the gym api and our code used above\n",
    "#     - make sure to use e-greedy, where e = random about 0.05 percent of the time\n",
    "#     - make sure to do the S <-- S' step because it can be easy to forget\n",
    "#     - every log_n steps, you should render your environment and\n",
    "#       print out the average total episode rewards of the past log_n runs to monitor how your agent trains\n",
    "#      (your implementation should be able to break at least +150 average reward value, and you can use that \n",
    "#       as a breaking condition.  It make take several minutes to run depending on your computer.)\n",
    "\n",
    "\n",
    "def run_one_episode(Q, alpha: float, eps: float, gamma: float, obs2bin: callable):\n",
    "    '''Run one episode using Tabular Q-learning'''\n",
    "    episode_reward = 0\n",
    "    env = gym.make('CartPole-v1') # (render_mode='human') does not work on M2 mac\n",
    "    obs, _ = env.reset()  # get first obs/state\n",
    "    s = obs2bin(obs)\n",
    "    while True:        \n",
    "        # select action based on epsilon-greedy\n",
    "        action = np.argmax(Q[s]) if np.random.rand() > eps else np.random.randint(0, 2)\n",
    "        obs, reward, terminated, truncated, _ = env.step(action)\n",
    "        episode_reward += reward\n",
    "\n",
    "        # new state\n",
    "        new_s = obs2bin(obs)\n",
    "\n",
    "        # update Q function based on equation\n",
    "        Q[s][action] += alpha * (reward + gamma * np.max(Q[new_s]) - Q[s][action])\n",
    "\n",
    "        # break if terminated or truncated\n",
    "        if terminated | truncated:\n",
    "            Q[s] = np.zeros(2) # for terminal state Q value should be 0\n",
    "            break\n",
    "        \n",
    "        # update state with new observation\n",
    "        s = new_s\n",
    "\n",
    "    env.close()\n",
    "    return episode_reward\n",
    "\n",
    "def experiment_setup(num_bins, alpha, gamma, log_n, eps):\n",
    "    env = gym.make('CartPole-v1')\n",
    "    Q = np.zeros([num_bins]*len(obs)+[env.action_space.n])\n",
    "\n",
    "    print (f'For alpha: {alpha}, eps: {eps}, gamma: {gamma}')\n",
    "\n",
    "    # define obs2bin\n",
    "    obs2bin = lambda obs: tuple(get_bins(obs_normalizer(obs), num_bins=num_bins))\n",
    "\n",
    "    total_rewards = []\n",
    "    total_episodes = 0\n",
    "    while True:\n",
    "        reward = run_one_episode(Q, alpha, eps, gamma, obs2bin)\n",
    "        total_rewards.append(reward)\n",
    "        total_episodes += 1\n",
    "        \n",
    "        # compute avg_reward for last log_n runs\n",
    "        avg_reward = np.mean(total_rewards[-log_n:])\n",
    "        \n",
    "        # breaking condition if it crosses 150    \n",
    "        if avg_reward > 150:\n",
    "            break\n",
    "\n",
    "        if total_episodes > 20_000:\n",
    "            print (f'Did not converge. At 20_000 episodes, average return in the last {log_n} episodes: {avg_reward}')\n",
    "            return total_episodes\n",
    "        \n",
    "    print (f'Ran for a total of {total_episodes} episodes before getting 150 as average reward!')\n",
    "    return total_episodes\n",
    "\n",
    "# hyper parameters. feel free to change these as desired and experiment with different values\n",
    "num_bins = 10\n",
    "alpha = 0.1\n",
    "gamma = 0.99\n",
    "log_n = 1000\n",
    "eps = 0.05\n",
    "\n",
    "experiment_setup(num_bins, alpha, gamma, log_n, eps)"
   ]
  },
  {
   "cell_type": "markdown",
   "metadata": {},
   "source": [
    "## [10 pts] Experiments\n",
    "\n",
    "Given a working algorithm, you will run a few experiments.  Either make a copy of your code above to modify, or make the modifications in a way that they can be commented out or switched between (with boolean flag if statements)."
   ]
  },
  {
   "cell_type": "markdown",
   "metadata": {},
   "source": [
    "**4.2. [5 pts] $\\epsilon$-greedy.**  How sensitive are the results to the value of $\\epsilon$?   First, write down your prediction of what would happen if $\\epsilon$ is set to various values, including for example [0, 0.05, 0.25, 0.5]."
   ]
  },
  {
   "cell_type": "markdown",
   "metadata": {},
   "source": [
    "The results are very sensitive to the value of $\\epsilon$, as we need to explore more intially and explore less in the later stages when we have a good Q value estimate. For the given values, my prediction would be that for,\n",
    "- For $\\epsilon = 0$, we would be stuck on all states where a non-optimal action has a higher Q value assigned. Therefore, never converging to good Q values.\n",
    "- For $\\epsilon = 0.05$, will take longer to find good Q value estimates since we are exploring only 5% of our actions. This is helpful in the later parts when we have good Q estimates since we pick optimal actions most of the time.\n",
    "- For $\\epsilon = 0.25$, this is useful to get good Q value estimates sooner as we explore 25% of the time, but in the later stages not beneficial as we want to pick the optimal action majority of the time.\n",
    "- For $\\epsilon = 0.5$, since we pick optimal actions 50% of the time, this might lead to delayed convergence of the Q value estimates. Even after convergence, we will not be getting good episodic rewards, since we are picking non-optimal actions with 50% probability."
   ]
  },
  {
   "cell_type": "markdown",
   "metadata": {},
   "source": [
    "Now run the experiment and observe the impact on the algorithm.  Report the results below."
   ]
  },
  {
   "cell_type": "code",
   "execution_count": 134,
   "metadata": {},
   "outputs": [
    {
     "name": "stdout",
     "output_type": "stream",
     "text": [
      "For alpha: 0.1, eps: 0.0, gamma: 0.99\n",
      "Did not converge. At 20_000 episodes, average return in the last 1000 episodes: 9.322\n",
      "For alpha: 0.1, eps: 0.05, gamma: 0.99\n",
      "Ran for a total of 3157 episodes before getting 150 as average reward!\n",
      "For alpha: 0.1, eps: 0.25, gamma: 0.99\n",
      "Ran for a total of 7119 episodes before getting 150 as average reward!\n",
      "For alpha: 0.1, eps: 0.5, gamma: 0.99\n",
      "Did not converge. At 20_000 episodes, average return in the last 1000 episodes: 81.04\n"
     ]
    },
    {
     "data": {
      "text/plain": [
       "''"
      ]
     },
     "execution_count": 134,
     "metadata": {},
     "output_type": "execute_result"
    }
   ],
   "source": [
    "num_bins = 10\n",
    "alpha = 0.1\n",
    "gamma = 0.99\n",
    "log_n = 1000\n",
    "for eps in [0.0, 0.05, 0.25, 0.5]:\n",
    "    experiment_setup(num_bins, alpha, gamma, log_n, eps)"
   ]
  },
  {
   "cell_type": "markdown",
   "metadata": {},
   "source": [
    "##### Analysis:\n",
    "The algorithm does not lead to good average reward in $20_000$ episodes for $\\epsilon = 0.0$ and $\\epsilon = 0.5$. This is because of either exploring too much ($\\epsilon = 0.5$) or exploiting non-optimal actions from the beginning ($\\epsilon = 0.0$). For $\\epsilon = 0.25$, we get the average reward after later than $\\epsilon = 0.05$, because for $\\epsilon = 0.25$ we still explore when we have found good Q value estimates."
   ]
  },
  {
   "cell_type": "markdown",
   "metadata": {},
   "source": [
    "**4.3. [5 pts] Design your own experiment.** Design a modification that you think would either increase or reduce performance.  A simple example (which you can use) is initializing the Q-table differently, and thinking about how this might alter performance. Write down your idea, what you think might happen, and why."
   ]
  },
  {
   "cell_type": "markdown",
   "metadata": {},
   "source": [
    "My modification would be to have modify the epsilon greedy parameter such that it is high value in the beginning and it is gradually reduced over the course of training. This allows us to converge quickly to good Q values while allowing us to select mostly optimal value once we have good Q values. In order to do this, I propose,\n",
    "```python\n",
    "gamma_epsilon = 0.9\n",
    "epsilon = 0.2\n",
    "T_interval = 100\n",
    "\n",
    "# after every T_interval episodes\n",
    "if episode_count % T_interval == 0:\n",
    "    epsilon *= gamma_epsilon\n",
    "```"
   ]
  },
  {
   "cell_type": "markdown",
   "metadata": {},
   "source": [
    "Run the experiment and report the results."
   ]
  },
  {
   "cell_type": "code",
   "execution_count": 149,
   "metadata": {},
   "outputs": [],
   "source": [
    "def modified_experiment_setup(num_bins, alpha, gamma, log_n, eps, gamma_eps, T_interval):\n",
    "    env = gym.make('CartPole-v1')\n",
    "    Q = np.zeros([num_bins]*len(obs)+[env.action_space.n])\n",
    "\n",
    "    print (f'For alpha: {alpha}, eps: {eps}, gamma: {gamma}')\n",
    "\n",
    "    # define obs2bin\n",
    "    obs2bin = lambda obs: tuple(get_bins(obs_normalizer(obs), num_bins=num_bins))\n",
    "\n",
    "    total_rewards = []\n",
    "    total_episodes = 0\n",
    "    while True:\n",
    "        reward = run_one_episode(Q, alpha, eps, gamma, obs2bin)\n",
    "        total_rewards.append(reward)\n",
    "        total_episodes += 1\n",
    "        \n",
    "        # Modification\n",
    "        if total_episodes % T_interval == 0:\n",
    "            eps *= gamma_eps # reduce epsilon by a bit\n",
    "        \n",
    "        # compute avg_reward for last log_n runs\n",
    "        avg_reward = np.mean(total_rewards[-log_n:])\n",
    "        \n",
    "        # breaking condition if it crosses 150    \n",
    "        if avg_reward > 150:\n",
    "            break\n",
    "\n",
    "        if total_episodes > 20_000:\n",
    "            print (f'Did not converge. At 20_000 episodes, average return in the last {log_n} episodes: {avg_reward}')\n",
    "            return total_episodes\n",
    "        \n",
    "    print (f'Ran for a total of {total_episodes} episodes before getting 150 as average reward!')\n",
    "    return total_episodes"
   ]
  },
  {
   "cell_type": "code",
   "execution_count": 160,
   "metadata": {},
   "outputs": [
    {
     "name": "stdout",
     "output_type": "stream",
     "text": [
      "For alpha: 0.1, eps: 0.3, gamma: 0.99\n",
      "Ran for a total of 1643 episodes before getting 150 as average reward!\n"
     ]
    },
    {
     "data": {
      "text/plain": [
       "1643"
      ]
     },
     "execution_count": 160,
     "metadata": {},
     "output_type": "execute_result"
    }
   ],
   "source": [
    "num_bins = 10\n",
    "alpha = 0.1\n",
    "gamma = 0.99\n",
    "log_n = 1000\n",
    "\n",
    "eps = 0.3\n",
    "T_interval = 100\n",
    "gamma_eps = 0.9\n",
    "\n",
    "modified_experiment_setup(num_bins, alpha, gamma, log_n, eps=eps, gamma_eps=gamma_eps, T_interval=T_interval)"
   ]
  },
  {
   "cell_type": "markdown",
   "metadata": {},
   "source": [
    "TODO: answer here"
   ]
  },
  {
   "cell_type": "markdown",
   "metadata": {},
   "source": [
    "---\n",
    "\n",
    "## A. Extensions (fully optional, will not be graded, if you have time after Part 2)\n",
    "\n",
    "- plots your learning curve, using e.g., matplotlib \n",
    "- visualize the Q-table to see which values are being updated and not\n",
    "- design a better binning strategy that uses fewer bins for a better-performing policy\n",
    "- extend this approach to work on different environments (e.g., LunarLander-v2)\n",
    "- extend this approach to work on environments with continuous actions, by using a fixed set of discrete samples of the action space.  e.g., for Pendulum-v0\n",
    "- implement a simple deep learning version of this.  we will see next part that DQN uses some tricks to make the neural network training more stable.  Experiment directly with simply replacing the Q-table with a Q-Network and train the Q-Network using gradient descent with `loss = (targets - Q(s,a))**2`, where `targets = stop_grad(R + gamma * maxa(Q(s,a))`)."
   ]
  },
  {
   "cell_type": "markdown",
   "metadata": {},
   "source": [
    "# Part 2 [60 pts] Behavioral Cloning and Deep Q Learning"
   ]
  },
  {
   "cell_type": "markdown",
   "metadata": {},
   "source": [
    "---\n",
    "The second part of assignment will help you transition from tabular approaches to deep neural network approaches. You will implement the [Atari DQN / Deep Q-Learning](https://arxiv.org/abs/1312.5602) algorithm, which arguably kicked off the modern Deep Reinforcement Learning craze.\n",
    "\n",
    "In this part we will use PyTorch as our deep learning framework.  To familiarize yourself with PyTorch, your first task is to use a behavior cloning (BC) approach to learn a policy.  Behavior cloning is a supervised learning method in which there exists a dataset of expert demonstrations (state-action pairs) and the goal is to learn a policy $\\pi$ that mimics this expert.  At any given state, your policy should choose the same action the export would.\n",
    "\n",
    "Since BC avoids the need to collect data from the policy you are trying to learn, it is relatively simple. \n",
    "This makes it a nice stepping stone for implementing DQN. Furthermore, BC is relevant to modern approaches---for example its use as an initialization for systems like [AlphaGo][go] and [AlphaStar][star], which then use RL to further adapte the BC result.  \n",
    "\n",
    "<!--\n",
    "\n",
    "I feel like this might be better suited to going lower in the document:\n",
    "\n",
    "Unfortunately, in many tasks it is impossible to collect good expert demonstrations, making\n",
    "\n",
    "it's not always possible to have good expert demonstrations for a task in an environemnt and this is where reinforcement learning comes handy. Through the reward signal retrieved by interacting with the environment, the agent learns by itself what is a good policy and can learn to outperform the experts.\n",
    "\n",
    "-->\n",
    "\n",
    "Goals:\n",
    "- Famliarize yourself with PyTorch and its API including models, datasets, dataloaders\n",
    "- Implement a supervised learning approach (behavioral cloning) to learn a policy.\n",
    "- Implement the DQN objective and learn a policy through environment interaction.\n",
    "\n",
    "[go]:  https://deepmind.com/research/case-studies/alphago-the-story-so-far\n",
    "[star]: https://deepmind.com/blog/article/alphastar-mastering-real-time-strategy-game-starcraft-ii\n",
    "\n",
    "## Submission information\n",
    "\n",
    "- Complete by editing and executing the associated Python files.\n",
    "- Copy and paste the code and the terminal output requested in the predefined cells on this Jupyter notebook.\n",
    "- When done, upload the completed Jupyter notebook (ipynb file) on canvas."
   ]
  },
  {
   "cell_type": "markdown",
   "metadata": {},
   "source": [
    "## Preliminaries\n",
    "\n",
    "### PyTorch\n",
    "\n",
    "If you have never used PyTorch before, we recommend you follow this [60 Minutes Blitz][blitz] tutorial from the official website. It should give you enough context to be able to complete the assignment.\n",
    "\n",
    "\n",
    "**If you have issues, post questions to Piazza**\n",
    "\n",
    "### Installation\n",
    "\n",
    "To install all required python packages:\n",
    "\n",
    "```\n",
    "python3 -m pip install -r requirements.txt\n",
    "```\n",
    "\n",
    "### Debugging\n",
    "\n",
    "\n",
    "You can include:  `import ipdb; ipdb.set_trace()` in your code and it will drop you to that point in the code, where you can interact with variables and test out expressions.  We recommend this as an effective method to debug the algorithms.\n",
    "\n",
    "\n",
    "[blitz]: https://pytorch.org/tutorials/beginner/deep_learning_60min_blitz.html"
   ]
  },
  {
   "cell_type": "markdown",
   "metadata": {},
   "source": [
    "## 1. [36 pts] Behavioral Cloning\n",
    "\n",
    "Behavioral Cloning is a type of supervised learning in which you are given a dataset of expert demonstrations tuple $(s, a)$ and the goal is to learn a policy function $\\hat a = \\pi(s)$, such that $\\hat a = a$.\n",
    "\n",
    "The optimization objective is $\\min_\\theta D(\\pi(s), a)$ where $\\theta$ are the parameters the policy $\\pi$, in our case the weights of a neural network, and where $D$ represents some difference between the actions.\n",
    "\n",
    "---\n",
    "\n",
    "Before starting, we suggest reading through the provided files.\n",
    "\n",
    "For Behavioral Cloning, the important files to understand are: `model.py`, `dataset.py` and `bc.py`.\n",
    "\n",
    "- The file `model.py` has the skeleton for the model (which you will have to complete in the following questions),\n",
    "\n",
    "- The file `dataset.py` has the skeleton for the dataset the model is being trained with,\n",
    "\n",
    "- and, `bc.py` will have all the structure for training the model with the dataset.\n",
    "\n",
    "\n",
    "### [10 pts] 1.1 Dataset\n",
    "\n",
    "We provide a pickle file with pre-collected expert demonstrations on CartPole from which to learn the policy $\\pi$. The data has been collected from an expert policy on the environment, with the addition of a small amount of gaussian noise to the actions.\n",
    "\n",
    "The pickle file contains a list of tuples of states and actions in `numpy` in the following way:\n",
    "\n",
    "```\n",
    "[(state s, action a), (state s, action a), (state s, action a), ...]\n",
    "```\n",
    "\n",
    "In the `dataset.py` file, we provide skeleton code for creating a custom dataset. The provided code shows how to load the file.\n",
    "\n",
    "Your goal is to overwrite the `__getitem__` function in order to return a dictionary of tensors of the correct type.\n",
    "\n",
    "Hint: Look in the `bc.py` file to understand how the dataset is used.\n",
    "\n",
    "Answer the following questions:"
   ]
  },
  {
   "cell_type": "markdown",
   "metadata": {},
   "source": [
    "**[6 pts]** Insert your code in the placeholder below."
   ]
  },
  {
   "cell_type": "code",
   "execution_count": 1,
   "metadata": {},
   "outputs": [],
   "source": [
    "# PLACEHOLDER TO INSERT YOUR __getitem__ method here\n",
    "import torch\n",
    "\n",
    "def __getitem__(self, index):\n",
    "    item = self.data[index]\n",
    "    return {'state': torch.from_numpy(item[0]), 'action': torch.tensor([item[1]], dtype=torch.int32)}"
   ]
  },
  {
   "cell_type": "markdown",
   "metadata": {},
   "source": [
    "**[2 pt]** How big is the dataset provided?\n",
    "\n",
    "**Answer**: The dataset consists of 99660 state-action pairs.\n",
    "\n",
    "**[2 pts]** What is the dimensionality of $s$ and what range does each dimension of $s$ span?  I.e., how much of the state space does the expert data cover? What are the dimensionalities and ranges of the action $a$ in the dataset (how much of the action space does the expert data cover)?\n",
    "\n",
    "**Answer**: The dimensionality of s is 4. For each dimension, these are the following ranges the expert data covers,\n",
    "- Dimension 0: $[-0.722, 2.399]$\n",
    "- Dimension 1: $[-0.433, 1.846]$\n",
    "- Dimension 2: $[-0.050, 0.146]$\n",
    "- Dimension 3: $[-0.381, 0.471]$\n",
    "\n",
    "The dimensionality of the actions space is 1 and the range of the action is $[0, 1]$. There are 48555 actions with value 0 and 51105 actions with value 1.\n"
   ]
  },
  {
   "cell_type": "markdown",
   "metadata": {},
   "source": [
    "### [5 pts] 1.2 Environment\n",
    "\n",
    "Recall the state and action space of CartPole, from the previous assignment.\n",
    "\n",
    "Considering the full state and action spaces, do you think the provided expert dataset has good coverage?  Why or why not? How might this impact the performance of our cloned policy?\n",
    "\n",
    "**Answer**: The (allowed) observation state space of CartPole has the following ranges,\n",
    "$$\n",
    "\\text{Min}: [-2.4, -\\infty, -0.201, -\\infty]\\\\\n",
    "\\text{Max}: [ 2.4,  \\infty,  0.201,  \\infty]\n",
    "$$\n",
    "whereas the expert data does not have good coverage as it does not cover the full allowed observable state space. For instance, if position of the cart is $< -0.722$, there is no expert data for the policy to learn from. This might impact the cloned policy as certain parts of the state-space might be out-of-distribution for it."
   ]
  },
  {
   "cell_type": "markdown",
   "metadata": {},
   "source": [
    "### [14 pts] 1.3 Model\n",
    "\n",
    "The file `model.py` provides skeleton code for the model. Your goal is to create the architecture of the network by adding layers that map the input to output.\n",
    "\n",
    "You will need to update the `__init__` method and the `forward` method.\n",
    "\n",
    "The `select_action` method has already been written for you.  This should be used when running the policy in the environment, while the `forward` function should be used at training time."
   ]
  },
  {
   "cell_type": "markdown",
   "metadata": {},
   "source": [
    "- **[10 pts]** Insert your code in the placeholder below."
   ]
  },
  {
   "cell_type": "code",
   "execution_count": 5,
   "metadata": {},
   "outputs": [],
   "source": [
    "# PLACEHOLDER TO INSERT YOUR MyModel class here\n",
    "import torch.nn as nn\n",
    "\n",
    "class MyModel(nn.Module):\n",
    "    def __init__(self, state_size: int = 4, action_size: int = 1):\n",
    "        super().__init__()\n",
    "        self.state_size = state_size\n",
    "        self.action_size = action_size\n",
    "\n",
    "        self.net = nn.Sequential(\n",
    "            nn.Linear(self.state_size, 32),\n",
    "            nn.SiLU(),\n",
    "            nn.Linear(32, 32),\n",
    "            nn.SiLU(),\n",
    "            nn.Linear(32, 32),\n",
    "            nn.SiLU(),\n",
    "            nn.Linear(32, 32),\n",
    "            nn.SiLU(),           \n",
    "            nn.Linear(32, self.action_size)\n",
    "        )\n",
    "        # TODO YOUR CODE HERE FOR INITIALIZING THE MODEL\n",
    "        # Guidelines for network size: start with 2 hidden layers and maximum 32 neurons per layer\n",
    "        # feel free to explore different sizes\n",
    "\n",
    "    def forward(self, x):\n",
    "        # TODO YOUR CODE HERE FOR THE FORWARD PASS\n",
    "        return self.net(x) \n",
    "    \n",
    "    def select_action(self, state):\n",
    "        self.eval()\n",
    "        x = self(state)\n",
    "        self.train()\n",
    "        return x.max(1)[1].view(1, 1).to(torch.long)\n"
   ]
  },
  {
   "cell_type": "markdown",
   "metadata": {},
   "source": [
    "Answer the following questions:\n",
    "\n",
    "- **[2 pts]** What is the dimension and meaning of the input of the network\n",
    "\n",
    "**Answer**: The dimension of the input of the network is 4 since the state space of CartPole is 4-dimensional. The input will be (batch_size, 4), where batch_size is the number of state-action pairs used in the mini-batch.\n",
    "\n",
    "- **[2 pts]** Similarly, describe the output.\n",
    "\n",
    "**Answer**: The dimension of the output of the network is 2 since the actions space is 1-dimensional with 2 possible actions. The output values will be un-normalized logits for the two actions with the shape (batch_size, 2).\n"
   ]
  },
  {
   "cell_type": "markdown",
   "metadata": {},
   "source": [
    "### [7 pts] 1.4 Training\n",
    "\n",
    "The file `bc.py` is the entry point for training your behavioral cloning model. The skeleton and the main components are already there.\n",
    "\n",
    "The missing parts for you to do are:\n",
    "\n",
    "- Initializing the model\n",
    "- Choosing a loss function\n",
    "- Choosing an optimizer\n",
    "- Playing with hyperparameters to train your model."
   ]
  },
  {
   "cell_type": "markdown",
   "metadata": {},
   "source": [
    "- **[5 pts]** Insert your code in the placeholder below."
   ]
  },
  {
   "cell_type": "code",
   "execution_count": 1,
   "metadata": {},
   "outputs": [],
   "source": [
    "# PLACEHOLDER FOR YOUR CODE HER\n",
    "# HOW DID YOU INITIALIZE YOUR MODEL, OPTIMIZER AND LOSS FUNCTIONS? PASTE HERE YOUR FINAL CODE\n",
    "# NOTE: YOU CAN KEEP THE FOLLOWING LINES COMMENTED OUT, AS RUNNING THIS CELL WILL PROBABLY RESULT IN ERRORS\n",
    "\n",
    "# model = MyModel(state_size=env.observation_space.shape[0], action_size=env.action_space.n)\n",
    "# optimizer = torch.optim.Adam(params=model.parameters(), lr=LEARNING_RATE)\n",
    "# loss_function = torch.nn.CrossEntropyLoss()"
   ]
  },
  {
   "cell_type": "markdown",
   "metadata": {},
   "source": [
    "You can run your code by doing:\n",
    "\n",
    "```\n",
    "python3 bc.py\n",
    "```\n",
    "\n",
    "**During all of this assignment, the code in `eval_policy.py` will be your best friend.** At any time, you can test your model by giving as argument the path to the model weights and the environment name using the following command:\n",
    "\n",
    "```\n",
    "python3 eval_policy.py --model-path /path/to/model/weights --env ENV_NAME\n",
    "````"
   ]
  },
  {
   "cell_type": "code",
   "execution_count": 4,
   "metadata": {},
   "outputs": [],
   "source": [
    "# ## PASTE YOUR TERMINAL OUTPUT HERE\n",
    "# # NOTE: TO HAVE LESS LINES PRINTED, YOU CAN SET THE VARIABLE PRINT_INTERVAL TO 5 or 10\n",
    "# [epoch    1/10] [iter       0] [loss 0.69425]\n",
    "# [epoch    2/10] [iter    2000] [loss 0.00878]\n",
    "# [Test on environment] [epoch 2/10] [score 248.50]\n",
    "# [epoch    3/10] [iter    4000] [loss 0.01058]\n",
    "# [epoch    4/10] [iter    6000] [loss 0.02082]\n",
    "# [Test on environment] [epoch 4/10] [score 242.60]\n",
    "# [epoch    6/10] [iter    8000] [loss 0.00495]\n",
    "# [Test on environment] [epoch 6/10] [score 275.50]\n",
    "# [epoch    7/10] [iter   10000] [loss 0.01813]\n",
    "# [epoch    8/10] [iter   12000] [loss 0.00271]\n",
    "# [Test on environment] [epoch 8/10] [score 273.50]\n",
    "# [epoch    9/10] [iter   14000] [loss 0.00324]\n",
    "# [Test on environment] [epoch 10/10] [score 250.30]\n",
    "# Saving model as behavioral_cloning_CartPole-v1.pt"
   ]
  },
  {
   "cell_type": "markdown",
   "metadata": {},
   "source": [
    "**[2 pts]** Did you manage to learn a good policy? How consistent is the reward you are getting?\n",
    "\n",
    "**Answer**: Yes, the policy consistently achieves more than 250 reward in the first 10 epochs."
   ]
  },
  {
   "cell_type": "markdown",
   "metadata": {},
   "source": [
    "## 2. [24 pts] Deep Q Learning\n",
    "\n",
    "There are two main issues with the behavior cloning approach.\n",
    "\n",
    "- First, we are not always lucky enough to have access to a dataset of expert demonstrations.\n",
    "- Second, replicating an expert policy suffers from compounding error. The policy $\\pi$ only sees these \"perfect\" examples and has no knowledge on how to recover from states not visited by the expert. For this reason, as soon as it is presented with a state that is off the expert trajectory, it will perform poorly and will continue to deviate from a good trajectory without the possibility of recovering from errors.\n",
    "\n",
    "---\n",
    "The second task consists in solving the environment from scratch, using RL, and most specifically the DQN algorithm, to learn a policy $\\pi$.\n",
    "\n",
    "For this task, familiarize yourself with the file `dqn.py`. We are going to re-use the file `model.py` for the model you created in the previous task.\n",
    "\n",
    "Your task is very similar to the one in the previous assignment, to implement the Q-learning algorithm, but in this version, our Q-function is approximated with a neural network.\n",
    "\n",
    "The algorithm (excerpted from [Atari DQN paper](https://arxiv.org/abs/1312.5602)) is given below:\n",
    "\n",
    "![DQN algorithm](https://i.imgur.com/Mh4Uxta.png)\n",
    "\n",
    "### 2.0 [2 pts] Think about your model...\n",
    "\n"
   ]
  },
  {
   "cell_type": "markdown",
   "metadata": {},
   "source": [
    "In DQN, we are using the same model as in task 1 for behavioral cloning. In both tasks the model receives as input the state and in both tasks the model outputs something that has the same dimensionality as the number of actions. These two outputs, though, represent very different things. What is each one representing?\n",
    "\n",
    "**Answer**: In task 1, the output of the neural network represented the action probabilities/logits since we were cloning policies. Here, the Q function represents the Q-value for each action, given the state."
   ]
  },
  {
   "cell_type": "markdown",
   "metadata": {},
   "source": [
    "### 2.1 [10 pts] Update your Q-function\n",
    "\n",
    "Complete the `optimize_model` function. This function receives as input a `state`, an `action`, the `next_state`, the `reward` and `done` representing the tuple $(s_t, a_t, s_{t+1}, r_t, done_t)$. Your task is to update your Q-function as shown in the [Atari DQN paper](https://arxiv.org/abs/1312.5602) environment. For now don't be concerned with the experience replay buffer. We'll get to that later.\n",
    "\n",
    "![Loss function](https://i.imgur.com/tpTsV8m.png)\n",
    "\n",
    "Insert your code in the placeholder below."
   ]
  },
  {
   "cell_type": "code",
   "execution_count": 8,
   "metadata": {},
   "outputs": [],
   "source": [
    "## PLACEHOLDER TO INSERT YOUR optimize_model function here:\n",
    "\n",
    "# def optimize_model(state, action, next_state, reward, done):\n",
    "#     # TODO given a tuple (s_t, a_t, s_{t+1}, r_t, done_t) update your model weights\n",
    "#     reward = torch.tensor(reward, device=device).float()\n",
    "#     next_state = torch.from_numpy(next_state).float()\n",
    "#     state = torch.from_numpy(state).float()\n",
    "#     loss = F.mse_loss(\n",
    "#         reward + (1 - done) * GAMMA * torch.max(target(next_state)), # target\n",
    "#         model(state)[action].squeeze() # prediction\n",
    "#     )\n",
    "\n",
    "#     optimizer.zero_grad()\n",
    "#     loss.backward()\n",
    "#     optimizer.step()"
   ]
  },
  {
   "cell_type": "markdown",
   "metadata": {},
   "source": [
    "### 2.2 [5 pts] $\\epsilon$-greedy strategy\n",
    "\n",
    "You will need a strategy to explore your environment. The standard strategy is to use $\\epsilon$-greedy. Implement it in the `choose_action` function template.\n",
    "\n",
    "Insert your code in the placeholder below."
   ]
  },
  {
   "cell_type": "code",
   "execution_count": 7,
   "metadata": {},
   "outputs": [],
   "source": [
    "## PLACEHOLDER TO INSERT YOUR choose_action function here:\n",
    "\n",
    "# def choose_action(state, test_mode=False):\n",
    "#     state = torch.from_numpy(state).float()\n",
    "#     return (\n",
    "#         torch.argmax(model(state), keepdim=True)\n",
    "#         if (random.uniform(0, 1) > EPS_EXPLORATION or test_mode)\n",
    "#         else torch.randint(0, n_actions, (1,), dtype=torch.long, device=device)\n",
    "#     ).view(-1, 1)"
   ]
  },
  {
   "cell_type": "markdown",
   "metadata": {},
   "source": [
    "### 2.3 [2 pts] Train your model\n",
    "\n",
    "Try to train a model in this way.\n",
    "\n",
    "You can run your code by doing:\n",
    "\n",
    "```\n",
    "python3 dqn.py\n",
    "```\n",
    "\n",
    "How many episodes does it take to learn (ie. reach a good reward)?\n",
    "\n",
    "**YOUR ANSWER HERE**"
   ]
  },
  {
   "cell_type": "code",
   "execution_count": 9,
   "metadata": {},
   "outputs": [],
   "source": [
    "## PASTE YOUR TERMINAL OUTPUT HERE\n",
    "# NOTE: TO HAVE LESS LINES PRINTED, YOU CAN SET THE VARIABLE PRINT_INTERVAL TO 5 or 10\n",
    "# Have attached the output in the file 2.2.txt"
   ]
  },
  {
   "cell_type": "markdown",
   "metadata": {},
   "source": [
    "### 2.4 [5 pts] Add the Experience Replay Buffer\n",
    "\n",
    "If you read the DQN paper (and as you can see from the algorithm picture above), the authors make use of an experience replay buffer to learn faster. We provide an implementation in the file `replay_buffer.py`. Update the `train_reinforcement_learning` code to push a tuple to the replay buffer and to sample a batch for the `optimize_model` function."
   ]
  },
  {
   "cell_type": "code",
   "execution_count": null,
   "metadata": {},
   "outputs": [],
   "source": [
    "## PASTE YOUR TERMINAL OUTPUT HERE\n",
    "# NOTE: TO HAVE LESS LINES PRINTED, YOU CAN SET THE VARIABLE PRINT_INTERVAL TO 5 or 10\n"
   ]
  },
  {
   "cell_type": "markdown",
   "metadata": {},
   "source": [
    "How does the replay buffer improve performance?\n",
    "\n",
    "**YOUR ANSWER HERE**"
   ]
  },
  {
   "cell_type": "markdown",
   "metadata": {},
   "source": [
    "## 3. Extra (fully optional)\n",
    "\n",
    "Ideas to experiment with:\n",
    "\n",
    "- Is $\\epsilon$-greedy strategy the best strategy available? Experiment with other strategies.\n",
    "- Make use of the model you have trained in the behavioral cloning part and fine-tune it with RL. How does that affect performance?\n",
    "- You are perhaps bored with `CartPole-v1` by now. Another environment we suggest trying is `LunarLander-v2`. It will be harder to learn but with experimentation, you will find the correct optimizations for success. Piazza is also your friend :)\n",
    "- What about learning from images? This requires more work because you have to extract the image from the environment. How much more challenging might you expect the learning to be in this case?\n",
    "- An improvement over DQN is DoubleDQN. Experiment with this to see how much of an impact it makes.\n",
    "\n"
   ]
  },
  {
   "cell_type": "code",
   "execution_count": null,
   "metadata": {},
   "outputs": [],
   "source": [
    "# YOU CAN USE THIS CODEBLOCK AND ADD ANY BLOCK BELOW AS YOU NEED\n",
    "# TO SHOW US THE IDEAS AND EXTRA EXPERIMENTS YOU RUN.\n",
    "# HAVE FUN!"
   ]
  },
  {
   "cell_type": "code",
   "execution_count": null,
   "metadata": {},
   "outputs": [],
   "source": []
  }
 ],
 "metadata": {
  "kernelspec": {
   "display_name": "Python 3",
   "language": "python",
   "name": "python3"
  },
  "language_info": {
   "codemirror_mode": {
    "name": "ipython",
    "version": 3
   },
   "file_extension": ".py",
   "mimetype": "text/x-python",
   "name": "python",
   "nbconvert_exporter": "python",
   "pygments_lexer": "ipython3",
   "version": "3.9.7"
  }
 },
 "nbformat": 4,
 "nbformat_minor": 2
}
